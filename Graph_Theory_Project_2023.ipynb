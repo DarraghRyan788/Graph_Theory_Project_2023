{
 "cells": [
  {
   "cell_type": "markdown",
   "id": "6a448632",
   "metadata": {},
   "source": [
    "# The Graph Isomorphism Problem"
   ]
  },
  {
   "cell_type": "markdown",
   "id": "bedf12a2",
   "metadata": {},
   "source": [
    "In this notebook we will delve into the computational problem, known as the graph isomorpism problem. \n",
    "A problem that asks whether two given graphs are isomorphic, in layman's terms, they have the same structure but may differ in\n",
    "their vertex and edge labels.\n",
    "Basically, the problem asks, is there a way to relabel the vertices of one graph to obtain the other graph?\n",
    "\n",
    "\n",
    "Given two graphs G and H, we must learn if there exists a bijection (one to one and onto mapping) f from the vertices of G to the vertices of H, to the extent that for any two vertices u and v in G, u and v are adjacent in G if and only if f(u) and f(v)\n",
    "are adjacent in H.\n",
    "\n",
    "This problem is a foundational problem in computer science and mathematics, applied in various areas such as network analysis, computational biology, cryptography and combinational optimization.\n",
    "It's also known to be NP-intermediate, this means that it is neither known to be in the class P, likewise it's not known to be NP- complete.\n",
    "\n",
    "This problem has been around for several decades now and is still an active area of research, with recent progress bringing researchers closer to a resolution of the problem.\n"
   ]
  },
  {
   "cell_type": "markdown",
   "id": "2fcb02c2",
   "metadata": {},
   "source": [
    "# Graph Creation"
   ]
  },
  {
   "cell_type": "code",
   "execution_count": 13,
   "id": "de443deb",
   "metadata": {},
   "outputs": [
    {
     "ename": "TypeError",
     "evalue": "'_AxesStack' object is not callable",
     "output_type": "error",
     "traceback": [
      "\u001b[1;31m---------------------------------------------------------------------------\u001b[0m",
      "\u001b[1;31mTypeError\u001b[0m                                 Traceback (most recent call last)",
      "Cell \u001b[1;32mIn[13], line 32\u001b[0m\n\u001b[0;32m     29\u001b[0m G\u001b[38;5;241m.\u001b[39madd_edges_from(E)\n\u001b[0;32m     31\u001b[0m \u001b[38;5;66;03m# Draw \u001b[39;00m\n\u001b[1;32m---> 32\u001b[0m nx\u001b[38;5;241m.\u001b[39mdraw_circular(G, \u001b[38;5;241m*\u001b[39m\u001b[38;5;241m*\u001b[39mparams)\n",
      "File \u001b[1;32m~\\anaconda3\\lib\\site-packages\\networkx\\drawing\\nx_pylab.py:1218\u001b[0m, in \u001b[0;36mdraw_circular\u001b[1;34m(G, **kwargs)\u001b[0m\n\u001b[0;32m   1187\u001b[0m \u001b[38;5;28;01mdef\u001b[39;00m \u001b[38;5;21mdraw_circular\u001b[39m(G, \u001b[38;5;241m*\u001b[39m\u001b[38;5;241m*\u001b[39mkwargs):\n\u001b[0;32m   1188\u001b[0m     \u001b[38;5;124;03m\"\"\"Draw the graph `G` with a circular layout.\u001b[39;00m\n\u001b[0;32m   1189\u001b[0m \n\u001b[0;32m   1190\u001b[0m \u001b[38;5;124;03m    This is a convenience function equivalent to::\u001b[39;00m\n\u001b[1;32m   (...)\u001b[0m\n\u001b[0;32m   1216\u001b[0m \u001b[38;5;124;03m    :func:`~networkx.drawing.layout.circular_layout`\u001b[39;00m\n\u001b[0;32m   1217\u001b[0m \u001b[38;5;124;03m    \"\"\"\u001b[39;00m\n\u001b[1;32m-> 1218\u001b[0m     draw(G, circular_layout(G), \u001b[38;5;241m*\u001b[39m\u001b[38;5;241m*\u001b[39mkwargs)\n",
      "File \u001b[1;32m~\\anaconda3\\lib\\site-packages\\networkx\\drawing\\nx_pylab.py:113\u001b[0m, in \u001b[0;36mdraw\u001b[1;34m(G, pos, ax, **kwds)\u001b[0m\n\u001b[0;32m    111\u001b[0m cf\u001b[38;5;241m.\u001b[39mset_facecolor(\u001b[38;5;124m\"\u001b[39m\u001b[38;5;124mw\u001b[39m\u001b[38;5;124m\"\u001b[39m)\n\u001b[0;32m    112\u001b[0m \u001b[38;5;28;01mif\u001b[39;00m ax \u001b[38;5;129;01mis\u001b[39;00m \u001b[38;5;28;01mNone\u001b[39;00m:\n\u001b[1;32m--> 113\u001b[0m     \u001b[38;5;28;01mif\u001b[39;00m \u001b[43mcf\u001b[49m\u001b[38;5;241;43m.\u001b[39;49m\u001b[43m_axstack\u001b[49m\u001b[43m(\u001b[49m\u001b[43m)\u001b[49m \u001b[38;5;129;01mis\u001b[39;00m \u001b[38;5;28;01mNone\u001b[39;00m:\n\u001b[0;32m    114\u001b[0m         ax \u001b[38;5;241m=\u001b[39m cf\u001b[38;5;241m.\u001b[39madd_axes((\u001b[38;5;241m0\u001b[39m, \u001b[38;5;241m0\u001b[39m, \u001b[38;5;241m1\u001b[39m, \u001b[38;5;241m1\u001b[39m))\n\u001b[0;32m    115\u001b[0m     \u001b[38;5;28;01melse\u001b[39;00m:\n",
      "\u001b[1;31mTypeError\u001b[0m: '_AxesStack' object is not callable"
     ]
    },
    {
     "data": {
      "text/plain": [
       "<Figure size 800x800 with 0 Axes>"
      ]
     },
     "metadata": {},
     "output_type": "display_data"
    }
   ],
   "source": [
    "#Imports\n",
    "#Permutations\n",
    "import itertools\n",
    "\n",
    "#Matrices/plots\n",
    "import numpy as np\n",
    "import matplotlib.pyplot as plt\n",
    "\n",
    "# Resize plots.\n",
    "plt.rcParams['figure.figsize'] = (8, 8)\n",
    "\n",
    "# Graphs.\n",
    "import networkx as nx\n",
    "\n",
    "# Math.\n",
    "import math\n",
    "\n",
    "# Networkx drawing parameters.\n",
    "params = {'node_color': 'red', 'node_size': 800, 'font_size': 18, 'with_labels': True}\n",
    "\n",
    "# Create an empty graph.\n",
    "G = nx.Graph()\n",
    "\n",
    "# Create a set of edges.\n",
    "E = ((0, 1), (1, 2), (2,3),(3,4),(0,4))\n",
    "\n",
    "# Incorporate the edges in G.\n",
    "# The nodes are just created as needed, based on E.\n",
    "G.add_edges_from(E)\n",
    "\n",
    "# Draw \n",
    "nx.draw_circular(G, **params)\n"
   ]
  },
  {
   "cell_type": "markdown",
   "id": "78539418",
   "metadata": {},
   "source": [
    "# (I don't know what is wrong with the above code)"
   ]
  },
  {
   "cell_type": "markdown",
   "id": "6e88f2ca",
   "metadata": {},
   "source": [
    "# Second Graph Creation"
   ]
  },
  {
   "cell_type": "code",
   "execution_count": 14,
   "id": "3f27bac1",
   "metadata": {
    "scrolled": false
   },
   "outputs": [
    {
     "ename": "TypeError",
     "evalue": "'_AxesStack' object is not callable",
     "output_type": "error",
     "traceback": [
      "\u001b[1;31m---------------------------------------------------------------------------\u001b[0m",
      "\u001b[1;31mTypeError\u001b[0m                                 Traceback (most recent call last)",
      "Cell \u001b[1;32mIn[14], line 4\u001b[0m\n\u001b[0;32m      2\u001b[0m F \u001b[38;5;241m=\u001b[39m ((\u001b[38;5;241m4\u001b[39m, \u001b[38;5;241m2\u001b[39m), (\u001b[38;5;241m0\u001b[39m,\u001b[38;5;241m3\u001b[39m),(\u001b[38;5;241m3\u001b[39m,\u001b[38;5;241m1\u001b[39m),(\u001b[38;5;241m1\u001b[39m,\u001b[38;5;241m4\u001b[39m))\n\u001b[0;32m      3\u001b[0m H\u001b[38;5;241m.\u001b[39madd_edges_from(F)\n\u001b[1;32m----> 4\u001b[0m nx\u001b[38;5;241m.\u001b[39mdraw_circular(H, \u001b[38;5;241m*\u001b[39m\u001b[38;5;241m*\u001b[39mparams)\n",
      "File \u001b[1;32m~\\anaconda3\\lib\\site-packages\\networkx\\drawing\\nx_pylab.py:1218\u001b[0m, in \u001b[0;36mdraw_circular\u001b[1;34m(G, **kwargs)\u001b[0m\n\u001b[0;32m   1187\u001b[0m \u001b[38;5;28;01mdef\u001b[39;00m \u001b[38;5;21mdraw_circular\u001b[39m(G, \u001b[38;5;241m*\u001b[39m\u001b[38;5;241m*\u001b[39mkwargs):\n\u001b[0;32m   1188\u001b[0m     \u001b[38;5;124;03m\"\"\"Draw the graph `G` with a circular layout.\u001b[39;00m\n\u001b[0;32m   1189\u001b[0m \n\u001b[0;32m   1190\u001b[0m \u001b[38;5;124;03m    This is a convenience function equivalent to::\u001b[39;00m\n\u001b[1;32m   (...)\u001b[0m\n\u001b[0;32m   1216\u001b[0m \u001b[38;5;124;03m    :func:`~networkx.drawing.layout.circular_layout`\u001b[39;00m\n\u001b[0;32m   1217\u001b[0m \u001b[38;5;124;03m    \"\"\"\u001b[39;00m\n\u001b[1;32m-> 1218\u001b[0m     draw(G, circular_layout(G), \u001b[38;5;241m*\u001b[39m\u001b[38;5;241m*\u001b[39mkwargs)\n",
      "File \u001b[1;32m~\\anaconda3\\lib\\site-packages\\networkx\\drawing\\nx_pylab.py:113\u001b[0m, in \u001b[0;36mdraw\u001b[1;34m(G, pos, ax, **kwds)\u001b[0m\n\u001b[0;32m    111\u001b[0m cf\u001b[38;5;241m.\u001b[39mset_facecolor(\u001b[38;5;124m\"\u001b[39m\u001b[38;5;124mw\u001b[39m\u001b[38;5;124m\"\u001b[39m)\n\u001b[0;32m    112\u001b[0m \u001b[38;5;28;01mif\u001b[39;00m ax \u001b[38;5;129;01mis\u001b[39;00m \u001b[38;5;28;01mNone\u001b[39;00m:\n\u001b[1;32m--> 113\u001b[0m     \u001b[38;5;28;01mif\u001b[39;00m \u001b[43mcf\u001b[49m\u001b[38;5;241;43m.\u001b[39;49m\u001b[43m_axstack\u001b[49m\u001b[43m(\u001b[49m\u001b[43m)\u001b[49m \u001b[38;5;129;01mis\u001b[39;00m \u001b[38;5;28;01mNone\u001b[39;00m:\n\u001b[0;32m    114\u001b[0m         ax \u001b[38;5;241m=\u001b[39m cf\u001b[38;5;241m.\u001b[39madd_axes((\u001b[38;5;241m0\u001b[39m, \u001b[38;5;241m0\u001b[39m, \u001b[38;5;241m1\u001b[39m, \u001b[38;5;241m1\u001b[39m))\n\u001b[0;32m    115\u001b[0m     \u001b[38;5;28;01melse\u001b[39;00m:\n",
      "\u001b[1;31mTypeError\u001b[0m: '_AxesStack' object is not callable"
     ]
    },
    {
     "data": {
      "text/plain": [
       "<Figure size 800x800 with 0 Axes>"
      ]
     },
     "metadata": {},
     "output_type": "display_data"
    }
   ],
   "source": [
    "H = nx.Graph()\n",
    "F = ((4, 2), (0,3),(3,1),(1,4))\n",
    "H.add_edges_from(F)\n",
    "nx.draw_circular(H, **params)"
   ]
  },
  {
   "cell_type": "markdown",
   "id": "b7cf4b3d",
   "metadata": {},
   "source": [
    "# (I don't know what is wrong with the above code)"
   ]
  },
  {
   "cell_type": "code",
   "execution_count": 15,
   "id": "da4f32dc",
   "metadata": {},
   "outputs": [
    {
     "name": "stdout",
     "output_type": "stream",
     "text": [
      "[[0. 1. 0. 0. 1.]\n",
      " [1. 0. 1. 0. 0.]\n",
      " [0. 1. 0. 1. 0.]\n",
      " [0. 0. 1. 0. 1.]\n",
      " [1. 0. 0. 1. 0.]]\n"
     ]
    }
   ],
   "source": [
    "#Next we will convert these graphs to adjacency matrixes\n",
    "##Adjacency Matrix of G\n",
    "GM = nx.to_numpy_array(G)\n",
    "print(GM)"
   ]
  },
  {
   "cell_type": "code",
   "execution_count": 12,
   "id": "ee97d168",
   "metadata": {
    "scrolled": true
   },
   "outputs": [
    {
     "name": "stdout",
     "output_type": "stream",
     "text": [
      "[[0. 1. 0. 0. 1.]\n",
      " [1. 0. 0. 0. 0.]\n",
      " [0. 0. 0. 1. 0.]\n",
      " [0. 0. 1. 0. 1.]\n",
      " [1. 0. 0. 1. 0.]]\n"
     ]
    }
   ],
   "source": [
    "##Adjacency Matrix of H\n",
    "HM = nx.to_numpy_array(H)\n",
    "print(HM)"
   ]
  },
  {
   "cell_type": "markdown",
   "id": "cc8d006c",
   "metadata": {},
   "source": [
    "# Why are computer scientists are so interested in the complexity of the Graph Isomorphism Problem??"
   ]
  },
  {
   "cell_type": "markdown",
   "id": "ff7ad13b",
   "metadata": {},
   "source": [
    "In my opinion, I believe computer scientists are so interested in this problem because, it's a prime example of a problem that is in the class NP (nondeterministic polynomial time) but is not known to be in either the class P (polynomial time) or NP-complete (the hardest problems in NP).\n",
    "Therefore, the Graph Isomorphism problem is thought to be computationally difficult, but not necessarily intractable.\n",
    "\n",
    "If we even look in recent years, a new algorithm based on techniques from group theory was discovered in 2015 by Laszlo Babai, that runs in quasipolynomial time, meaning, time that is polynomial in the logarithm of the input size. This was a huge improvement over previously know algorithms, which had exponetial or subexponetial running time.\n",
    "\n",
    "The discovery of this new algorithm has important implications for the study of the complexity of the Graph Isomorphism Problem and for the broader field of computational complexity theory. It suggests that the problem may be more tractable than previously thought and that new techniques may be needed to analyze the complexity of other problems in NP."
   ]
  },
  {
   "cell_type": "markdown",
   "id": "2d2ba26d",
   "metadata": {},
   "source": [
    "# References"
   ]
  },
  {
   "cell_type": "markdown",
   "id": "eb3e09f0",
   "metadata": {},
   "source": [
    "https://tonicanada.medium.com/brute-force-code-for-isomorphisms-1241ef180570\n",
    "\n",
    "Video for isomorphic graphs:\n",
    "\n",
    "https://www.youtube.com/watch?v=I46EddATx14\n",
    "\n",
    "http://www.fit.vutbr.cz/~krena/prace/stc2001.pdf\n",
    "\n",
    "https://zoo.cs.yale.edu/classes/cs367/2019s/lectures/ln20.pdf\n",
    "\n",
    "https://youtu.be/-VeyhCHHPUoLászló - Babai: \"Groups, Graphs and Algorithms\" \n",
    "\n",
    "Also used were all the lecture slides/notes provided by Ian Mcloughlin.\n",
    "\n"
   ]
  }
 ],
 "metadata": {
  "kernelspec": {
   "display_name": "Python 3 (ipykernel)",
   "language": "python",
   "name": "python3"
  },
  "language_info": {
   "codemirror_mode": {
    "name": "ipython",
    "version": 3
   },
   "file_extension": ".py",
   "mimetype": "text/x-python",
   "name": "python",
   "nbconvert_exporter": "python",
   "pygments_lexer": "ipython3",
   "version": "3.9.16"
  }
 },
 "nbformat": 4,
 "nbformat_minor": 5
}
